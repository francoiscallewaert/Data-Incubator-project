{
 "cells": [
  {
   "cell_type": "code",
   "execution_count": 117,
   "metadata": {
    "collapsed": true
   },
   "outputs": [],
   "source": [
    "from IPython.display import Image, HTML, display\n",
    "img1 = 'Plots/germany renewables.png'\n",
    "img2 = 'Plots/Electricity consumption by fuel2.png'\n",
    "img3 = 'Plots/Power profile week winter5.png'\n",
    "img4 = 'Plots/Power_nuclear_week.png'\n",
    "img5 = 'Plots/Power profile 4 years3.png'\n",
    "img6 = 'Plots/energy storage.png'\n",
    "\n",
    "imagesList1=''.join( [\"<img style='width: 560px; margin: 0px; float: left; border: none;' src='%s' />\" % str(img1), \n",
    "                     \"<img style='width: 360px; PADDING-LEFT: 20px; margin: 0px; float: left; border: none;' src='%s' />\" % str(img2)])\n",
    "image2 = \"<img style='width: 500px; margin: 0px; float: left; border: none;' src='%s' />\" % str(img3)\n",
    "image3 = \"<img style='width: 800px; margin: 0px; float: left; border: none;' src='%s' />\" % str(img4)\n",
    "image4 = \"<img style='width: 800px; margin: 0px; float: left; border: none;' src='%s' />\" % str(img5)\n",
    "image5 = \"<img style='width: 500px; margin: 0px; float: left; border: none;' src='%s' />\" % str(img6)\n"
   ]
  },
  {
   "cell_type": "markdown",
   "metadata": {},
   "source": [
    "# Renewable electricity in France\n",
    "\n",
    "## Introduction\n",
    "\n",
    "The graph below compares electricity generation in Germany and France. Both countries have taken very different course.<br /> On the one hand Germany has invested heavily in renewables, multiplying by 10 the amount of renewable electricity generated since 1990. In 2017, 19% of German electricity was from the wind and 7% from the sun. <br />\n",
    "On the other hand France has invested much slower in renewable energy, from 1% wind and solar in 2008 to 6% in 2016, even though the geographic potential is much higher than Germany.\n",
    "\n",
    "However, following the Paris climate agreement, France plans to reduce the use of fossil fuels in the next few years, shutting down coal and oil plants, as well as reduce the amount of nuclear electricity from 70% to 50%. In the following work, we will study how a combination of wind and solar production as well as electricity storage will allow to meet those goals. We will quantify the business opportunity for investments and electricity costs.\n",
    "\n",
    "We will use a dataset that shows electric power production profile by source from January 2013 to November 2017, by steps of 30 minutes. In the first step, we will study how thermal energy can be minimized by using more wind, solar and storage. In the second step, we will also reduce the nuclear capacity from 63 to 45GW."
   ]
  },
  {
   "cell_type": "code",
   "execution_count": 99,
   "metadata": {
    "collapsed": false
   },
   "outputs": [
    {
     "data": {
      "text/html": [
       "<img style='width: 560px; margin: 0px; float: left; border: none;' src='Plots/germany renewables.png' /><img style='width: 360px; PADDING-LEFT: 20px; margin: 0px; float: left; border: none;' src='Plots/Electricity consumption by fuel2.png' />"
      ],
      "text/plain": [
       "<IPython.core.display.HTML object>"
      ]
     },
     "metadata": {},
     "output_type": "display_data"
    }
   ],
   "source": [
    "display(HTML(imagesList1))"
   ]
  },
  {
   "cell_type": "markdown",
   "metadata": {},
   "source": [
    "## Characteristics of electricity production \n",
    "\n",
    "First, we need to understand the main characteristics of electricity production and consumption in France, both short term and long term. In the plot below, we show the power production profile during a winter week in 2017 (each point is 30 minutes). <br />\n",
    "This graph shows that nuclear production is kept very stable over time as baseload power. This means it cannot be adjusted to match the variability of consumption (daily variability around 10-20GW) and compensate for the variability of wind/solar production. Instead, thermal and hydroelectric power are adjusted to hourly variations of production and consumption.<br />"
   ]
  },
  {
   "cell_type": "code",
   "execution_count": 113,
   "metadata": {
    "collapsed": false
   },
   "outputs": [
    {
     "data": {
      "text/html": [
       "<img style='width: 500px; margin: 0px; float: left; border: none;' src='Plots/Power profile week winter5.png' />"
      ],
      "text/plain": [
       "<IPython.core.display.HTML object>"
      ]
     },
     "metadata": {},
     "output_type": "display_data"
    }
   ],
   "source": [
    "display(HTML(image2))"
   ]
  },
  {
   "cell_type": "markdown",
   "metadata": {},
   "source": [
    "Because nuclear power can't be adjusted fast, our model will be based on the historic production, plus or minus a \"perturbation\" to take into account seasonal variability of wind and solar, but with variations limited to 1GW/day. The peak nuclear power will be limited to 63GW, and 45GW under the 50% nuclear scenario.<br />\n",
    "\n",
    "In the remaining of this work, we consider the total power minus the historic nuclear production. The next graph shows the power profile for a winter week and a summer week. As can be seen, there is a need for 15 to 30GW of power in the winter and 10 to 20GW in the summer, with a difference of around 10GW between day and night. Most of the daily variability is currently covered by hydroelectricity, a bit by thermal power and also solar power during the summer.<br />\n",
    "\n",
    "We also expect solar energy (+ short term storage for the evening) to be very useful to absorb the daily variability in consumption during end of spring to beginning of fall."
   ]
  },
  {
   "cell_type": "code",
   "execution_count": 119,
   "metadata": {
    "collapsed": false
   },
   "outputs": [
    {
     "data": {
      "text/html": [
       "<img style='width: 800px; margin: 0px; float: left; border: none;' src='Plots/Power_nuclear_week.png' />"
      ],
      "text/plain": [
       "<IPython.core.display.HTML object>"
      ]
     },
     "metadata": {},
     "output_type": "display_data"
    }
   ],
   "source": [
    "display(HTML(image3))"
   ]
  },
  {
   "cell_type": "markdown",
   "metadata": {},
   "source": [
    "Next graph shows the long term power profile (minus nuclear) over 4 years. It is clear that there is a strong seasonal variability, with a very high demand during the winter (for heating). Thermal power is the main resource to satisfy the peak demand over the winter. In order to reduce thermal power production, one needs to find a reliable source of energy to match an average of around 10GW production during the winter, especially that we will only consider thermal power from gas generation, as coal and oil plants are planned to be shut down, so peak thermal generation will be limited to 10GW vs 17GW currently.<br />\n",
    "\n",
    "Interestingly, wind power is highest during winter season, so we expect it to be key to generate electricity for the winter peak. On the other hand, solar energy changes in the opposite direction of the seasonal consumption, so we don't expect it play a key role to provide \"seasonal power\"."
   ]
  },
  {
   "cell_type": "code",
   "execution_count": 120,
   "metadata": {
    "collapsed": false
   },
   "outputs": [
    {
     "data": {
      "text/html": [
       "<img style='width: 800px; margin: 0px; float: left; border: none;' src='Plots/Power profile 4 years3.png' />"
      ],
      "text/plain": [
       "<IPython.core.display.HTML object>"
      ]
     },
     "metadata": {},
     "output_type": "display_data"
    }
   ],
   "source": [
    "display(HTML(image4))"
   ]
  },
  {
   "cell_type": "markdown",
   "metadata": {},
   "source": [
    "## More on storage\n",
    "\n",
    "Due to the wind and solar variability, these sources alone cannot match instantaneous consumption. Therefore, a mechanism is needed to store the energy when production > consumption and release it when production < consumption. There are multiple storage technologies available, and other that can be developed. Here is a description of storage technologies used for the modelling: <br />\n",
    "1) Hydroelectric lakes can store very large amounts of water and release it relatively slowly. Currently, France has 3600GWh lake storage with a power of up to 8GW (20 days). However, hydroelectric lakes cannot be refilled artificially. The natural refill rate of hydroelectric lakes is 1.5GW on average.<br />\n",
    "2) Pumped hydro has a much smaller capacity but it can be refilled, with a round-trip efficiency of 80%. Current capacity is 184GWh and maximum power is 5.5GW (33 hours). In our modelling, we will study how increasing the pumped hydro capacity allows more renewable energy to be integrated to the grid.<br />\n",
    "3) Batteries are much more expensive than the previous two technologies, but they allow high power short term storage, typically 4 hours for Li-ion batteries. This is still a nascent industry with around 50GWh installed in the world, but a forecasted 500GWh by 2022. We will study how this technology could help mitigate fast variations of renewable energy, particularly solar.\n",
    "\n",
    "The graph below shows a simple illustration of how energy storage works"
   ]
  },
  {
   "cell_type": "code",
   "execution_count": 103,
   "metadata": {
    "collapsed": false
   },
   "outputs": [
    {
     "data": {
      "text/html": [
       "<img style='width: 500px; margin: 0px; float: left; border: none;' src='Plots/energy storage.png' />"
      ],
      "text/plain": [
       "<IPython.core.display.HTML object>"
      ]
     },
     "metadata": {},
     "output_type": "display_data"
    }
   ],
   "source": [
    "display(HTML(image5))"
   ]
  },
  {
   "cell_type": "code",
   "execution_count": null,
   "metadata": {
    "collapsed": false
   },
   "outputs": [],
   "source": []
  },
  {
   "cell_type": "code",
   "execution_count": null,
   "metadata": {
    "collapsed": true
   },
   "outputs": [],
   "source": []
  }
 ],
 "metadata": {
  "kernelspec": {
   "display_name": "Python 3",
   "language": "python",
   "name": "python3"
  },
  "language_info": {
   "codemirror_mode": {
    "name": "ipython",
    "version": 3
   },
   "file_extension": ".py",
   "mimetype": "text/x-python",
   "name": "python",
   "nbconvert_exporter": "python",
   "pygments_lexer": "ipython3",
   "version": "3.6.0"
  }
 },
 "nbformat": 4,
 "nbformat_minor": 2
}
